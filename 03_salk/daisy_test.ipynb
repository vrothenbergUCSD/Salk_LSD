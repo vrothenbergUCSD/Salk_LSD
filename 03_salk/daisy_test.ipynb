{
 "cells": [
  {
   "cell_type": "code",
   "execution_count": 1,
   "metadata": {},
   "outputs": [
    {
     "name": "stdout",
     "output_type": "stream",
     "text": [
      "[      0       1       2 ... 4095997 4095998 4095999]\n"
     ]
    }
   ],
   "source": [
    "import numpy as np\n",
    "shape = 4096000\n",
    "a = np.arange(shape, dtype=np.int64)\n",
    "b = np.empty_like(a, dtype=np.int64)\n",
    "print(a)\n",
    "# prints [0 1 2 ... 4095997 4095998 4095999]"
   ]
  },
  {
   "cell_type": "code",
   "execution_count": 2,
   "metadata": {},
   "outputs": [
    {
     "name": "stdout",
     "output_type": "stream",
     "text": [
      "4.09 s ± 69.2 ms per loop (mean ± std. dev. of 7 runs, 1 loop each)\n",
      "[             0              1              4 ... 16777191424009\n",
      " 16777199616004 16777207808001]\n"
     ]
    }
   ],
   "source": [
    "def process_fn():\n",
    "    # iterating and squaring each element in a and store to b\n",
    "    with np.nditer([a, b],\n",
    "                   op_flags=[['readonly'], ['readwrite']]) as it:\n",
    "        with it:\n",
    "           for x,y in it:\n",
    "                y[...] = x**2\n",
    "%timeit process_fn()  # 3.55 s ± 22.7 ms per loop\n",
    "print(b)\n",
    "# prints [0 1 4 ... 16777191424009 16777199616004 16777207808001]"
   ]
  },
  {
   "cell_type": "code",
   "execution_count": 4,
   "metadata": {},
   "outputs": [
    {
     "name": "stderr",
     "output_type": "stream",
     "text": [
      "/home/ubuntu/miniconda3/envs/lsd_env/lib/python3.8/site-packages/tqdm/auto.py:21: TqdmWarning: IProgress not found. Please update jupyter and ipywidgets. See https://ipywidgets.readthedocs.io/en/stable/user_install.html\n",
      "  from .autonotebook import tqdm as notebook_tqdm\n"
     ]
    }
   ],
   "source": [
    "import daisy\n",
    "from funlib.persistence import Array\n",
    "from funlib.geometry import Roi, Coordinate\n",
    "import zarr\n",
    "shape = 4096000\n",
    "block_shape = 1024*16\n",
    "# input array is wrapped in `Array` for easy of `Roi` indexing\n",
    "a = Array(np.arange(shape, dtype=np.int64),\n",
    "                roi=Roi((0,), shape),\n",
    "                voxel_size=(1,))\n",
    "# to parallelize across processes, we need persistent read/write arrays\n",
    "# we'll use zarr here to do do that\n",
    "b = zarr.open_array(zarr.TempStore(), 'w', (shape,),\n",
    "                    chunks=(block_shape,),\n",
    "                    dtype=np.int64)\n",
    "# output array is wrapped in Array for easy of Roi indexing\n",
    "b = Array(b,\n",
    "                roi=Roi((0,), shape),\n",
    "                voxel_size=(1,))"
   ]
  },
  {
   "cell_type": "code",
   "execution_count": 5,
   "metadata": {},
   "outputs": [
    {
     "name": "stderr",
     "output_type": "stream",
     "text": [
      "square ✔: 100%|██████████| 250/250 [00:15<00:00, 16.44blocks/s, ⧗=0, ▶=0, ✔=250, ✗=0, ∅=0]\n"
     ]
    },
    {
     "name": "stdout",
     "output_type": "stream",
     "text": [
      "\n",
      "Execution Summary\n",
      "-----------------\n",
      "\n",
      "  Task square:\n",
      "\n",
      "    num blocks : 250\n",
      "    completed ✔: 250 (skipped 0)\n",
      "    failed    ✗: 0\n",
      "    orphaned  ∅: 0\n",
      "\n",
      "    all blocks processed successfully\n",
      "[             0              1              4 ... 16777191424009\n",
      " 16777199616004 16777207808001]\n"
     ]
    }
   ],
   "source": [
    "# same process function as previously, but with additional code\n",
    "# to read and write data to persistent arrays\n",
    "def process_fn_daisy(block):\n",
    "    a_sub = a[block.read_roi].to_ndarray()\n",
    "    b_sub = np.empty_like(a_sub)\n",
    "    with np.nditer([a_sub, b_sub],\n",
    "                   op_flags=[['readonly'], ['readwrite']],\n",
    "                  ) as it:\n",
    "        with it:\n",
    "           for x,y in it:\n",
    "                y[...] = x**2\n",
    "    \n",
    "    b[block.write_roi] = b_sub\n",
    "\n",
    "\n",
    "total_roi = Roi((0,), shape)  # total ROI to map process over\n",
    "block_roi = Roi((0,), (block_shape,))  # block ROI for parallel processing\n",
    "# creating a Daisy task, note that we do not specify how each\n",
    "# worker should read/write to input/output arrays\n",
    "task = daisy.Task(\n",
    "    total_roi=total_roi,\n",
    "    read_roi=block_roi,\n",
    "    write_roi=block_roi,\n",
    "    process_function=process_fn_daisy,\n",
    "    num_workers=1,\n",
    "    task_id='square',\n",
    ")\n",
    "daisy.run_blockwise([task])\n",
    "\n",
    "# %timeit daisy.run_blockwise([task])  # 1.26 s ± 16.1 ms per loop\n",
    "print(b.to_ndarray())\n",
    "# prints [0 1 4 ... 16777191424009 16777199616004 16777207808001]"
   ]
  },
  {
   "cell_type": "code",
   "execution_count": null,
   "metadata": {},
   "outputs": [],
   "source": []
  }
 ],
 "metadata": {
  "kernelspec": {
   "display_name": "lsd_env",
   "language": "python",
   "name": "python3"
  },
  "language_info": {
   "codemirror_mode": {
    "name": "ipython",
    "version": 3
   },
   "file_extension": ".py",
   "mimetype": "text/x-python",
   "name": "python",
   "nbconvert_exporter": "python",
   "pygments_lexer": "ipython3",
   "version": "3.8.16"
  },
  "orig_nbformat": 4
 },
 "nbformat": 4,
 "nbformat_minor": 2
}
