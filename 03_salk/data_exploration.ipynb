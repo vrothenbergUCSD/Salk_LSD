{
 "cells": [
  {
   "attachments": {},
   "cell_type": "markdown",
   "metadata": {},
   "source": [
    "# Data Exploration"
   ]
  },
  {
   "attachments": {},
   "cell_type": "markdown",
   "metadata": {},
   "source": []
  },
  {
   "cell_type": "code",
   "execution_count": 1,
   "metadata": {},
   "outputs": [
    {
     "name": "stderr",
     "output_type": "stream",
     "text": [
      "/tmp/ipykernel_3239/2871270234.py:20: DeprecationWarning: Please use `maximum_filter` from the `scipy.ndimage` namespace, the `scipy.ndimage.filters` namespace is deprecated.\n",
      "  from scipy.ndimage.filters import maximum_filter\n",
      "/tmp/ipykernel_3239/2871270234.py:21: DeprecationWarning: Please use `distance_transform_edt` from the `scipy.ndimage` namespace, the `scipy.ndimage.morphology` namespace is deprecated.\n",
      "  from scipy.ndimage.morphology import distance_transform_edt\n"
     ]
    }
   ],
   "source": [
    "#@title import packages\n",
    "\n",
    "import gunpowder as gp\n",
    "import h5py\n",
    "import io\n",
    "import logging\n",
    "import math\n",
    "import matplotlib.pyplot as plt\n",
    "import numpy as np\n",
    "import os\n",
    "import random\n",
    "import requests\n",
    "import torch\n",
    "import waterz\n",
    "import zarr\n",
    "\n",
    "from funlib.learn.torch.models import UNet, ConvPass\n",
    "from gunpowder.torch import Predict\n",
    "from scipy.ndimage import label, measurements\n",
    "from scipy.ndimage.filters import maximum_filter\n",
    "from scipy.ndimage.morphology import distance_transform_edt\n",
    "from skimage.segmentation import watershed\n",
    "\n",
    "%matplotlib inline\n",
    "logging.basicConfig(level=logging.INFO)"
   ]
  },
  {
   "cell_type": "code",
   "execution_count": 2,
   "metadata": {},
   "outputs": [
    {
     "name": "stdout",
     "output_type": "stream",
     "text": [
      "raw.shape (100, 1000, 1000)\n",
      "labels.shape (100, 1000, 1000)\n"
     ]
    }
   ],
   "source": [
    "file_path = '/data/lsd_nm_experiments/03_salk/salk/3M-APP-SCN/training/data.zarr'\n",
    "\n",
    "data = zarr.open(file_path, 'r')\n",
    "\n",
    "raw = data['volumes/raw']\n",
    "labels = data['volumes/labels/neuron_ids']\n",
    "\n",
    "print('raw.shape', raw.shape)\n",
    "print('labels.shape', labels.shape)\n",
    "\n",
    "# container = zarr.open(name, 'a')\n",
    "\n",
    "# if sections is None:\n",
    "#   sections=range(raw.shape[0]-1)\n",
    "\n",
    "# for index, section in enumerate(sections):\n",
    "\n",
    "#   print(f'Writing data for section {section}')\n",
    "\n",
    "#   raw_slice = raw[section]\n",
    "#   labels_slice = labels[section]\n",
    "\n",
    "#   if squeeze:\n",
    "#     raw_slice = np.squeeze(raw_slice)\n",
    "#     labels_slice = np.squeeze(labels_slice)\n",
    "\n",
    "#   for ds_name, data in [\n",
    "#       ('raw', raw_slice),\n",
    "#       ('labels', labels_slice)]:\n",
    "\n",
    "#       container[f'{ds_name}/{index}'] = data\n",
    "#       container[f'{ds_name}/{index}'].attrs['offset'] = offset\n",
    "#       container[f'{ds_name}/{index}'].attrs['resolution'] = resolution"
   ]
  },
  {
   "cell_type": "code",
   "execution_count": 34,
   "metadata": {},
   "outputs": [
    {
     "name": "stdout",
     "output_type": "stream",
     "text": [
      "Group: \n",
      "Group: /volumes\n",
      "Group: /volumes/labels\n",
      "Array: /volumes/labels/labels_mask, Shape: (100, 1000, 1000), dtype: uint8\n",
      "Array: /volumes/labels/neuron_ids, Shape: (100, 1000, 1000), dtype: uint64\n",
      "Array: /volumes/raw, Shape: (100, 1000, 1000), dtype: uint8\n"
     ]
    }
   ],
   "source": [
    "def print_zarr_hierarchy(obj, name=''):\n",
    "    if isinstance(obj, zarr.Group):\n",
    "        print(f\"Group: {name}\")\n",
    "        for key in obj.keys():\n",
    "            print_zarr_hierarchy(obj[key], name=f\"{name}/{key}\")\n",
    "    elif isinstance(obj, zarr.Array):\n",
    "        print(f\"Array: {name}, Shape: {obj.shape}, dtype: {obj.dtype}\")\n",
    "    elif isinstance(obj, zarr.Attributes):\n",
    "        print(f\"Attributes: {name}\")\n",
    "        for attr_name in obj.attrs_keys():\n",
    "            print(f\"Attribute: {attr_name}, Value: {obj.attrs[attr_name]}\")\n",
    "\n",
    "print_zarr_hierarchy(data)"
   ]
  },
  {
   "cell_type": "code",
   "execution_count": 12,
   "metadata": {},
   "outputs": [
    {
     "data": {
      "text/plain": [
       "(100, 1000, 1000)"
      ]
     },
     "execution_count": 12,
     "metadata": {},
     "output_type": "execute_result"
    }
   ],
   "source": [
    "lab = np.array(labels)\n",
    "lab.shape\n"
   ]
  },
  {
   "cell_type": "code",
   "execution_count": 15,
   "metadata": {},
   "outputs": [
    {
     "data": {
      "text/plain": [
       "36542225"
      ]
     },
     "execution_count": 15,
     "metadata": {},
     "output_type": "execute_result"
    }
   ],
   "source": [
    "np.sum(lab == 41)"
   ]
  },
  {
   "cell_type": "code",
   "execution_count": 16,
   "metadata": {},
   "outputs": [
    {
     "data": {
      "text/plain": [
       "22938193"
      ]
     },
     "execution_count": 16,
     "metadata": {},
     "output_type": "execute_result"
    }
   ],
   "source": [
    "np.sum(lab == 0)"
   ]
  },
  {
   "cell_type": "code",
   "execution_count": 17,
   "metadata": {},
   "outputs": [
    {
     "data": {
      "text/plain": [
       "11741"
      ]
     },
     "execution_count": 17,
     "metadata": {},
     "output_type": "execute_result"
    }
   ],
   "source": [
    "np.sum(lab == 1)"
   ]
  },
  {
   "attachments": {},
   "cell_type": "markdown",
   "metadata": {},
   "source": [
    "## create_masks.py\n",
    "\n",
    "Custom script for 3M-APP-SCN data"
   ]
  },
  {
   "cell_type": "code",
   "execution_count": 35,
   "metadata": {},
   "outputs": [],
   "source": [
    "import numpy as np\n",
    "import zarr\n",
    "\n",
    "file_path = '/data/lsd_nm_experiments/03_salk/salk/3M-APP-SCN/training/data.zarr'\n",
    "\n",
    "container = zarr.open(file_path, \"a\")\n",
    "\n",
    "labels = container[\"volumes/labels/neuron_ids\"]\n",
    "offset = labels.attrs[\"offset\"]\n",
    "resolution = labels.attrs[\"resolution\"]\n",
    "\n",
    "labels = labels[:]\n",
    "\n",
    "# true where labels == true, can be used to get network to make predictions in\n",
    "# background regions (in this case these regions correspond to glia)\n",
    "unlabelled = (labels > 0).astype(np.uint8)\n",
    "\n",
    "# label 41 is a big cell body. Let's also create a mask without this label that\n",
    "# we can use to restrict random locations to mostly neuropil regions\n",
    "object_mask = unlabelled.copy()\n",
    "object_mask[labels == 41] = 0\n",
    "\n",
    "# write data to zarr\n",
    "for ds_name, data in [(\"object_mask\", object_mask), (\"unlabelled\", unlabelled)]:\n",
    "    container[f\"volumes/labels/{ds_name}\"] = data\n",
    "    container[f\"volumes/labels/{ds_name}\"].attrs[\"offset\"] = offset\n",
    "    container[f\"volumes/labels/{ds_name}\"].attrs[\"resolution\"] = resolution\n"
   ]
  },
  {
   "cell_type": "code",
   "execution_count": null,
   "metadata": {},
   "outputs": [],
   "source": []
  }
 ],
 "metadata": {
  "kernelspec": {
   "display_name": "lsd_env",
   "language": "python",
   "name": "python3"
  },
  "language_info": {
   "codemirror_mode": {
    "name": "ipython",
    "version": 3
   },
   "file_extension": ".py",
   "mimetype": "text/x-python",
   "name": "python",
   "nbconvert_exporter": "python",
   "pygments_lexer": "ipython3",
   "version": "3.8.16"
  },
  "orig_nbformat": 4
 },
 "nbformat": 4,
 "nbformat_minor": 2
}
